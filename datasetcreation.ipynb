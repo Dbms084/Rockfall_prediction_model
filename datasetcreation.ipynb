{
 "cells": [
  {
   "cell_type": "code",
   "execution_count": 4,
   "id": "ed8b01f6",
   "metadata": {},
   "outputs": [
    {
     "name": "stdout",
     "output_type": "stream",
     "text": [
      "Dataset created with rockfall event balance:\n",
      "Rockfall_Event\n",
      "0    696\n",
      "1    304\n",
      "Name: count, dtype: int64\n"
     ]
    }
   ],
   "source": [
    "import numpy as np\n",
    "import pandas as pd\n",
    "\n",
    "n_samples = 1000\n",
    "\n",
    "rock_types = [\"Granite\", \"Sandstone\", \"Shale\"]\n",
    "soil_types = [\"Clay\", \"Loam\", \"Sand\"]\n",
    "lithologies = [\"Igneous\", \"Metamorphic\", \"Sedimentary\"]\n",
    "vegetations = [\"Sparse\", \"Moderate\", \"Dense\"]\n",
    "land_covers = [\"Bare\", \"Grassland\", \"Forest\"]\n",
    "\n",
    "np.random.seed(42)  # For reproducibility\n",
    "\n",
    "data = {\n",
    "    'Elevation': np.random.uniform(100, 600, n_samples),\n",
    "    'Slope': np.random.uniform(20, 60, n_samples),\n",
    "    'Aspect_deg': np.random.uniform(0, 360, n_samples),\n",
    "    'Distance_to_fault_km': np.random.uniform(0.1, 5.0, n_samples),\n",
    "    'Rainfall_mm': np.random.exponential(10, n_samples),\n",
    "    'Snow_mm': np.random.exponential(3, n_samples),\n",
    "    'Temperature_C': np.random.normal(15, 7, n_samples),\n",
    "    'Wind_speed_kmh': np.random.normal(12, 6, n_samples),\n",
    "    'Rock_Type': np.random.choice(rock_types, n_samples),\n",
    "    'Soil_Type': np.random.choice(soil_types, n_samples),\n",
    "    'Lithology': np.random.choice(lithologies, n_samples),\n",
    "    'Fracture_Density': np.random.uniform(0, 20, n_samples),\n",
    "    'Vegetation': np.random.choice(vegetations, n_samples),\n",
    "    'Land_Cover': np.random.choice(land_covers, n_samples),\n",
    "    'Rock_size': np.random.uniform(0.2, 3.0, n_samples),\n",
    "    'Rock_volume': np.random.uniform(0.05, 4.0, n_samples),\n",
    "    'Energy_released': np.random.uniform(10, 2000, n_samples),\n",
    "}\n",
    "\n",
    "df = pd.DataFrame(data)\n",
    "\n",
    "# Create a risk score combining multiple features with weights\n",
    "risk_score = (\n",
    "    0.3 * (df['Slope'] / df['Slope'].max()) +\n",
    "    0.25 * (df['Rainfall_mm'] / df['Rainfall_mm'].max()) +\n",
    "    0.25 * (df['Fracture_Density'] / df['Fracture_Density'].max()) +\n",
    "    0.1 * (df['Snow_mm'] / df['Snow_mm'].max()) +\n",
    "    0.05 * ((30 - df['Temperature_C']).clip(lower=0) / 30) +  # colder temps increase risk\n",
    "    0.05 * (df['Wind_speed_kmh'] / df['Wind_speed_kmh'].max())\n",
    ")\n",
    "\n",
    "# Normalize risk score between 0 and 1\n",
    "risk_score = (risk_score - risk_score.min()) / (risk_score.max() - risk_score.min())\n",
    "\n",
    "# Assign Rockfall_Event probabilistically to get a balanced dataset\n",
    "df['Rockfall_Event'] = (risk_score > 0.5).astype(int)\n",
    "\n",
    "# Optionally add some randomness to labels to simulate noise\n",
    "noise_idx = np.random.choice(df.index, size=int(0.05 * n_samples), replace=False)\n",
    "df.loc[noise_idx, 'Rockfall_Event'] = 1 - df.loc[noise_idx, 'Rockfall_Event']\n",
    "\n",
    "df.to_csv(\"balanced_synthetic_rockfall_data.csv\", index=False)\n",
    "print(\"Dataset created with rockfall event balance:\")\n",
    "print(df['Rockfall_Event'].value_counts())\n"
   ]
  },
  {
   "cell_type": "code",
   "execution_count": null,
   "id": "d5bc38fa",
   "metadata": {},
   "outputs": [],
   "source": []
  }
 ],
 "metadata": {
  "kernelspec": {
   "display_name": "base",
   "language": "python",
   "name": "python3"
  },
  "language_info": {
   "codemirror_mode": {
    "name": "ipython",
    "version": 3
   },
   "file_extension": ".py",
   "mimetype": "text/x-python",
   "name": "python",
   "nbconvert_exporter": "python",
   "pygments_lexer": "ipython3",
   "version": "3.13.5"
  }
 },
 "nbformat": 4,
 "nbformat_minor": 5
}
